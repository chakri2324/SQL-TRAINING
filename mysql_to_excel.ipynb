{
 "cells": [
  {
   "cell_type": "code",
   "execution_count": 1,
   "id": "f3cd313f",
   "metadata": {},
   "outputs": [
    {
     "name": "stdout",
     "output_type": "stream",
     "text": [
      "Collecting mysql-connector-python\n",
      "  Using cached mysql_connector_python-8.0.31-cp39-cp39-win_amd64.whl (7.9 MB)\n",
      "Collecting protobuf<=3.20.1,>=3.11.0\n",
      "  Using cached protobuf-3.20.1-cp39-cp39-win_amd64.whl (904 kB)\n",
      "Installing collected packages: protobuf, mysql-connector-python\n",
      "Successfully installed mysql-connector-python-8.0.31 protobuf-3.20.1\n",
      "Note: you may need to restart the kernel to use updated packages.\n"
     ]
    }
   ],
   "source": [
    "pip install mysql-connector-python"
   ]
  },
  {
   "cell_type": "code",
   "execution_count": 11,
   "id": "f2556278",
   "metadata": {},
   "outputs": [],
   "source": [
    "import mysql.connector\n",
    "import pandas as pd"
   ]
  },
  {
   "cell_type": "code",
   "execution_count": 9,
   "id": "7adb7a2d",
   "metadata": {},
   "outputs": [],
   "source": [
    "db=mysql.connector.connect(host=\"localhost\",port=3306,user=\"root\",password=\"Vini@57578\",database=\"student\")"
   ]
  },
  {
   "cell_type": "code",
   "execution_count": 8,
   "id": "4b43f944",
   "metadata": {},
   "outputs": [],
   "source": [
    "sql=\"select * from student\";"
   ]
  },
  {
   "cell_type": "code",
   "execution_count": 12,
   "id": "276081e1",
   "metadata": {},
   "outputs": [],
   "source": [
    "df=pd.read_sql(sql,db)"
   ]
  },
  {
   "cell_type": "code",
   "execution_count": 13,
   "id": "27ff0ea0",
   "metadata": {},
   "outputs": [
    {
     "data": {
      "text/plain": [
       "<bound method NDFrame.head of      ID      NAME  CLASS  MARKS RESULT\n",
       "0  4001     Akash     10     85   Pass\n",
       "1  4002  Abdullah     10    100   Pass\n",
       "2  4003   vinitha     10     95   Pass\n",
       "3  4004   Shalini     10     55   Fail\n",
       "4  4005   Deepthi     10     67   Pass\n",
       "5  4006     Baran     10     45   Fail\n",
       "6  4007   Amritha     10     83   Pass>"
      ]
     },
     "execution_count": 13,
     "metadata": {},
     "output_type": "execute_result"
    }
   ],
   "source": [
    "df.head"
   ]
  },
  {
   "cell_type": "code",
   "execution_count": 16,
   "id": "3decf007",
   "metadata": {},
   "outputs": [],
   "source": [
    "df.to_excel(\"students.xlsx\",index=False)"
   ]
  },
  {
   "cell_type": "code",
   "execution_count": 17,
   "id": "d5577d95",
   "metadata": {},
   "outputs": [
    {
     "data": {
      "text/plain": [
       "<bound method CMySQLConnection.close of <mysql.connector.connection_cext.CMySQLConnection object at 0x0000014201117580>>"
      ]
     },
     "execution_count": 17,
     "metadata": {},
     "output_type": "execute_result"
    }
   ],
   "source": [
    "db.close"
   ]
  },
  {
   "cell_type": "code",
   "execution_count": null,
   "id": "cd4b68d4",
   "metadata": {},
   "outputs": [],
   "source": []
  }
 ],
 "metadata": {
  "kernelspec": {
   "display_name": "Python 3 (ipykernel)",
   "language": "python",
   "name": "python3"
  },
  "language_info": {
   "codemirror_mode": {
    "name": "ipython",
    "version": 3
   },
   "file_extension": ".py",
   "mimetype": "text/x-python",
   "name": "python",
   "nbconvert_exporter": "python",
   "pygments_lexer": "ipython3",
   "version": "3.9.7"
  }
 },
 "nbformat": 4,
 "nbformat_minor": 5
}
